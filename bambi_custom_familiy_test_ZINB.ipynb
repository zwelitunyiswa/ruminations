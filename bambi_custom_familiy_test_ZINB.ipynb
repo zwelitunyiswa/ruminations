{
 "cells": [
  {
   "cell_type": "code",
   "execution_count": 2,
   "metadata": {},
   "outputs": [],
   "source": [
    "import bambi as bmb\n",
    "import arviz as az\n",
    "import pymc as pm\n",
    "import pandas as pd"
   ]
  },
  {
   "cell_type": "code",
   "execution_count": 26,
   "metadata": {},
   "outputs": [
    {
     "data": {
      "text/html": [
       "<div>\n",
       "<style scoped>\n",
       "    .dataframe tbody tr th:only-of-type {\n",
       "        vertical-align: middle;\n",
       "    }\n",
       "\n",
       "    .dataframe tbody tr th {\n",
       "        vertical-align: top;\n",
       "    }\n",
       "\n",
       "    .dataframe thead th {\n",
       "        text-align: right;\n",
       "    }\n",
       "</style>\n",
       "<table border=\"1\" class=\"dataframe\">\n",
       "  <thead>\n",
       "    <tr style=\"text-align: right;\">\n",
       "      <th></th>\n",
       "      <th>hits</th>\n",
       "      <th>at_bats</th>\n",
       "    </tr>\n",
       "  </thead>\n",
       "  <tbody>\n",
       "    <tr>\n",
       "      <th>0</th>\n",
       "      <td>33</td>\n",
       "      <td>100</td>\n",
       "    </tr>\n",
       "    <tr>\n",
       "      <th>1</th>\n",
       "      <td>30</td>\n",
       "      <td>100</td>\n",
       "    </tr>\n",
       "    <tr>\n",
       "      <th>2</th>\n",
       "      <td>0</td>\n",
       "      <td>100</td>\n",
       "    </tr>\n",
       "    <tr>\n",
       "      <th>3</th>\n",
       "      <td>33</td>\n",
       "      <td>100</td>\n",
       "    </tr>\n",
       "    <tr>\n",
       "      <th>4</th>\n",
       "      <td>0</td>\n",
       "      <td>100</td>\n",
       "    </tr>\n",
       "  </tbody>\n",
       "</table>\n",
       "</div>"
      ],
      "text/plain": [
       "   hits  at_bats\n",
       "0    33      100\n",
       "1    30      100\n",
       "2     0      100\n",
       "3    33      100\n",
       "4     0      100"
      ]
     },
     "execution_count": 26,
     "metadata": {},
     "output_type": "execute_result"
    }
   ],
   "source": [
    "arr_zinb = pm.ZeroInflatedBinomial.dist(p=.30, n=100, psi=.7, size=100).eval()\n",
    "\n",
    "df_zinb = pd.DataFrame(arr_zinb, columns=['hits']).assign(at_bats=100)\n",
    "\n",
    "df_zinb.head()"
   ]
  },
  {
   "cell_type": "code",
   "execution_count": 67,
   "metadata": {},
   "outputs": [
    {
     "data": {
      "text/plain": [
       "Family: zinb\n",
       "Likelihood: Likelihood(  \n",
       "  name: ZeroInflatedBinomial,\n",
       "  params: ['p', 'psi'],\n",
       "  parent: p\n",
       ")\n",
       "Link: {'p': Link(  \n",
       "  name: logit,\n",
       "  link: <function logit at 0x29b4534c0>,\n",
       "  linkinv: <function expit at 0x29b453420>\n",
       "), 'psi': Link(  \n",
       "  name: logit,\n",
       "  link: <function logit at 0x29b4534c0>,\n",
       "  linkinv: <function expit at 0x29b453420>\n",
       ")}"
      ]
     },
     "execution_count": 67,
     "metadata": {},
     "output_type": "execute_result"
    }
   ],
   "source": [
    "likelihood = bmb.Likelihood(\"ZeroInflatedBinomial\", params=[\"p\", \"psi\"], parent=\"p\")\n",
    "links = {\"p\": \"logit\", \"psi\": \"logit\"}\n",
    "zinb_family = bmb.Family(\"zinb\", likelihood, links)\n",
    "zinb_family"
   ]
  },
  {
   "cell_type": "code",
   "execution_count": 69,
   "metadata": {},
   "outputs": [
    {
     "data": {
      "text/plain": [
       "       Formula: p(hits, at_bats) ~ 1\n",
       "        Family: zinb\n",
       "          Link: p = logit\n",
       "  Observations: 100\n",
       "        Priors: \n",
       "    target = p\n",
       "        Common-level effects\n",
       "            Intercept ~ Normal(mu: 0.0, sigma: 2.5)\n",
       "        \n",
       "        Auxiliary parameters\n",
       "            p(hits, at_bats)_psi ~ Normal(mu: 0.0, sigma: 2.0)"
      ]
     },
     "execution_count": 69,
     "metadata": {},
     "output_type": "execute_result"
    }
   ],
   "source": [
    "priors = {\"psi\": bmb.Prior(\"Normal\", mu=0, sigma=2)}\n",
    "\n",
    "model = bmb.Model(\"p(hits, at_bats) ~ 1\", df_zinb, family=zinb_family, priors=priors)\n",
    "\n",
    "model"
   ]
  },
  {
   "cell_type": "code",
   "execution_count": 72,
   "metadata": {},
   "outputs": [
    {
     "ename": "TypeError",
     "evalue": "ZeroInflatedBinomial.__new__() missing 1 required positional argument: 'n'",
     "output_type": "error",
     "traceback": [
      "\u001b[0;31m---------------------------------------------------------------------------\u001b[0m",
      "\u001b[0;31mTypeError\u001b[0m                                 Traceback (most recent call last)",
      "Cell \u001b[0;32mIn[72], line 1\u001b[0m\n\u001b[0;32m----> 1\u001b[0m idata \u001b[39m=\u001b[39m model\u001b[39m.\u001b[39;49mfit()\n\u001b[1;32m      3\u001b[0m idata\n",
      "File \u001b[0;32m/opt/homebrew/Caskroom/miniforge/base/envs/bambi_dist2/lib/python3.11/site-packages/bambi/models.py:289\u001b[0m, in \u001b[0;36mModel.fit\u001b[0;34m(self, draws, tune, discard_tuned_samples, omit_offsets, include_mean, inference_method, init, n_init, chains, cores, random_seed, **kwargs)\u001b[0m\n\u001b[1;32m    286\u001b[0m         inference_method \u001b[39m=\u001b[39m method\n\u001b[1;32m    288\u001b[0m \u001b[39mif\u001b[39;00m \u001b[39mnot\u001b[39;00m \u001b[39mself\u001b[39m\u001b[39m.\u001b[39mbuilt:\n\u001b[0;32m--> 289\u001b[0m     \u001b[39mself\u001b[39;49m\u001b[39m.\u001b[39;49mbuild()\n\u001b[1;32m    291\u001b[0m \u001b[39m# Tell user which event is being modeled\u001b[39;00m\n\u001b[1;32m    292\u001b[0m \u001b[39mif\u001b[39;00m \u001b[39misinstance\u001b[39m(\u001b[39mself\u001b[39m\u001b[39m.\u001b[39mfamily, univariate\u001b[39m.\u001b[39mBernoulli):\n",
      "File \u001b[0;32m/opt/homebrew/Caskroom/miniforge/base/envs/bambi_dist2/lib/python3.11/site-packages/bambi/models.py:325\u001b[0m, in \u001b[0;36mModel.build\u001b[0;34m(self)\u001b[0m\n\u001b[1;32m    316\u001b[0m \u001b[39m\u001b[39m\u001b[39m\"\"\"Set up the model for sampling/fitting.\u001b[39;00m\n\u001b[1;32m    317\u001b[0m \n\u001b[1;32m    318\u001b[0m \u001b[39mCreates an instance of the underlying PyMC model and adds all the necessary terms to it.\u001b[39;00m\n\u001b[0;32m   (...)\u001b[0m\n\u001b[1;32m    322\u001b[0m \u001b[39mNone\u001b[39;00m\n\u001b[1;32m    323\u001b[0m \u001b[39m\"\"\"\u001b[39;00m\n\u001b[1;32m    324\u001b[0m \u001b[39mself\u001b[39m\u001b[39m.\u001b[39mbackend \u001b[39m=\u001b[39m PyMCModel()\n\u001b[0;32m--> 325\u001b[0m \u001b[39mself\u001b[39;49m\u001b[39m.\u001b[39;49mbackend\u001b[39m.\u001b[39;49mbuild(\u001b[39mself\u001b[39;49m)\n\u001b[1;32m    326\u001b[0m \u001b[39mself\u001b[39m\u001b[39m.\u001b[39mbuilt \u001b[39m=\u001b[39m \u001b[39mTrue\u001b[39;00m\n",
      "File \u001b[0;32m/opt/homebrew/Caskroom/miniforge/base/envs/bambi_dist2/lib/python3.11/site-packages/bambi/backend/pymc.py:72\u001b[0m, in \u001b[0;36mPyMCModel.build\u001b[0;34m(self, spec)\u001b[0m\n\u001b[1;32m     69\u001b[0m         \u001b[39mself\u001b[39m\u001b[39m.\u001b[39mcomponents[name] \u001b[39m=\u001b[39m DistributionalComponent(component)\n\u001b[1;32m     70\u001b[0m         \u001b[39mself\u001b[39m\u001b[39m.\u001b[39mcomponents[name]\u001b[39m.\u001b[39mbuild(\u001b[39mself\u001b[39m, spec)\n\u001b[0;32m---> 72\u001b[0m     \u001b[39mself\u001b[39;49m\u001b[39m.\u001b[39;49mbuild_response(spec)\n\u001b[1;32m     73\u001b[0m     \u001b[39mself\u001b[39m\u001b[39m.\u001b[39mbuild_potentials(spec)\n\u001b[1;32m     75\u001b[0m \u001b[39mself\u001b[39m\u001b[39m.\u001b[39mspec \u001b[39m=\u001b[39m spec\n",
      "File \u001b[0;32m/opt/homebrew/Caskroom/miniforge/base/envs/bambi_dist2/lib/python3.11/site-packages/bambi/backend/pymc.py:129\u001b[0m, in \u001b[0;36mPyMCModel.build_response\u001b[0;34m(self, spec)\u001b[0m\n\u001b[1;32m    121\u001b[0m \u001b[39m\u001b[39m\u001b[39m\"\"\"Add response term to the PyMC model\u001b[39;00m\n\u001b[1;32m    122\u001b[0m \n\u001b[1;32m    123\u001b[0m \u001b[39mParameters\u001b[39;00m\n\u001b[0;32m   (...)\u001b[0m\n\u001b[1;32m    126\u001b[0m \u001b[39m    The model.\u001b[39;00m\n\u001b[1;32m    127\u001b[0m \u001b[39m\"\"\"\u001b[39;00m\n\u001b[1;32m    128\u001b[0m response_component \u001b[39m=\u001b[39m \u001b[39mself\u001b[39m\u001b[39m.\u001b[39mcomponents[spec\u001b[39m.\u001b[39mresponse_name]\n\u001b[0;32m--> 129\u001b[0m response_component\u001b[39m.\u001b[39;49mbuild_response(\u001b[39mself\u001b[39;49m, spec)\n",
      "File \u001b[0;32m/opt/homebrew/Caskroom/miniforge/base/envs/bambi_dist2/lib/python3.11/site-packages/bambi/backend/model_components.py:138\u001b[0m, in \u001b[0;36mDistributionalComponent.build_response\u001b[0;34m(self, pymc_backend, bmb_model)\u001b[0m\n\u001b[1;32m    136\u001b[0m \u001b[39m# Create and build the response term\u001b[39;00m\n\u001b[1;32m    137\u001b[0m response_term \u001b[39m=\u001b[39m ResponseTerm(response_term, bmb_model\u001b[39m.\u001b[39mfamily)\n\u001b[0;32m--> 138\u001b[0m response_term\u001b[39m.\u001b[39;49mbuild(pymc_backend, bmb_model)\n",
      "File \u001b[0;32m/opt/homebrew/Caskroom/miniforge/base/envs/bambi_dist2/lib/python3.11/site-packages/bambi/backend/terms.py:259\u001b[0m, in \u001b[0;36mResponseTerm.build\u001b[0;34m(self, pymc_backend, bmb_model)\u001b[0m\n\u001b[1;32m    256\u001b[0m kwargs[\u001b[39m\"\u001b[39m\u001b[39mdims\u001b[39m\u001b[39m\"\u001b[39m] \u001b[39m=\u001b[39m dims\n\u001b[1;32m    258\u001b[0m \u001b[39m# Build the response distribution\u001b[39;00m\n\u001b[0;32m--> 259\u001b[0m dist \u001b[39m=\u001b[39m \u001b[39mself\u001b[39;49m\u001b[39m.\u001b[39;49mbuild_response_distribution(kwargs)\n\u001b[1;32m    261\u001b[0m \u001b[39mreturn\u001b[39;00m dist\n",
      "File \u001b[0;32m/opt/homebrew/Caskroom/miniforge/base/envs/bambi_dist2/lib/python3.11/site-packages/bambi/backend/terms.py:275\u001b[0m, in \u001b[0;36mResponseTerm.build_response_distribution\u001b[0;34m(self, kwargs)\u001b[0m\n\u001b[1;32m    272\u001b[0m \u001b[39mif\u001b[39;00m \u001b[39mhasattr\u001b[39m(\u001b[39mself\u001b[39m\u001b[39m.\u001b[39mfamily, \u001b[39m\"\u001b[39m\u001b[39mtransform_backend_kwargs\u001b[39m\u001b[39m\"\u001b[39m):\n\u001b[1;32m    273\u001b[0m     kwargs \u001b[39m=\u001b[39m \u001b[39mself\u001b[39m\u001b[39m.\u001b[39mfamily\u001b[39m.\u001b[39mtransform_backend_kwargs(kwargs)\n\u001b[0;32m--> 275\u001b[0m \u001b[39mreturn\u001b[39;00m dist(\u001b[39mself\u001b[39;49m\u001b[39m.\u001b[39;49mname, \u001b[39m*\u001b[39;49m\u001b[39m*\u001b[39;49mkwargs)\n",
      "\u001b[0;31mTypeError\u001b[0m: ZeroInflatedBinomial.__new__() missing 1 required positional argument: 'n'"
     ]
    }
   ],
   "source": [
    "idata = model.fit()\n",
    "\n",
    "idata"
   ]
  },
  {
   "cell_type": "code",
   "execution_count": null,
   "metadata": {},
   "outputs": [],
   "source": []
  }
 ],
 "metadata": {
  "kernelspec": {
   "display_name": "bambi_dist2",
   "language": "python",
   "name": "python3"
  },
  "language_info": {
   "codemirror_mode": {
    "name": "ipython",
    "version": 3
   },
   "file_extension": ".py",
   "mimetype": "text/x-python",
   "name": "python",
   "nbconvert_exporter": "python",
   "pygments_lexer": "ipython3",
   "version": "3.11.0"
  },
  "orig_nbformat": 4,
  "vscode": {
   "interpreter": {
    "hash": "708e26c7650cfda397256c5169ce25240abd16cf2b0fae89347c62e667512025"
   }
  }
 },
 "nbformat": 4,
 "nbformat_minor": 2
}
